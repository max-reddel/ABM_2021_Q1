{
 "cells": [
  {
   "cell_type": "markdown",
   "metadata": {
    "collapsed": true,
    "pycharm": {
     "name": "#%% md\n"
    }
   },
   "source": [
    "# Template\n",
    "\n",
    "This notebook can be considered as a template. It's mostly about path and directory issues. Just make sure to copy the first cell block into your new notebook!"
   ]
  },
  {
   "cell_type": "code",
   "execution_count": 1,
   "outputs": [],
   "source": [
    "import os\n",
    "os.chdir('..')\n",
    "import sys\n",
    "sys.path.insert(0, './Scripts')\n",
    "\n",
    "# This avoids runtime errors in the animation\n",
    "import nest_asyncio\n",
    "nest_asyncio.apply()\n",
    "\n",
    "from Scripts.AnimateAgents import *\n",
    "from Scripts.InanimateAgents import *\n",
    "from Scripts.EvacuationModel import *\n",
    "from Scripts.ToyModel import *\n",
    "from Scripts.PathFinding import *\n",
    "# %matplotlib inline"
   ],
   "metadata": {
    "collapsed": false,
    "pycharm": {
     "name": "#%%\n"
    }
   }
  },
  {
   "cell_type": "code",
   "execution_count": 2,
   "outputs": [],
   "source": [
    "# model = EvacuationModel(num_staff=10, num_visitors=200, female_ratio=0.5)\n",
    "# for i in range(10):\n",
    "#     model.step()"
   ],
   "metadata": {
    "collapsed": false,
    "pycharm": {
     "name": "#%%\n"
    }
   }
  },
  {
   "cell_type": "code",
   "execution_count": 3,
   "outputs": [],
   "source": [
    "# model = ToyModel()\n",
    "#\n",
    "# for i in range(100):\n",
    "#     model.step()"
   ],
   "metadata": {
    "collapsed": false,
    "pycharm": {
     "name": "#%%\n"
    }
   }
  },
  {
   "cell_type": "code",
   "execution_count": 4,
   "outputs": [],
   "source": [
    "# toy_model = create_toy_space(visalize=True)\n"
   ],
   "metadata": {
    "collapsed": false,
    "pycharm": {
     "name": "#%%\n"
    }
   }
  },
  {
   "cell_type": "code",
   "execution_count": 5,
   "outputs": [
    {
     "name": "stdout",
     "output_type": "stream",
     "text": [
      "starting\n",
      "Doing model step #0!\n",
      "Doing model step #1!\n",
      "Doing model step #2!\n",
      "Doing model step #3!\n",
      "Doing model step #4!\n",
      "Doing model step #5!\n",
      "Doing model step #6!\n",
      "Doing model step #7!\n",
      "Doing model step #8!\n",
      "Doing model step #9!\n",
      "Doing model step #10!\n",
      "Doing model step #11!\n",
      "Doing model step #12!\n",
      "Doing model step #13!\n",
      "Doing model step #14!\n",
      "Doing model step #15!\n",
      "Doing model step #16!\n",
      "Doing model step #17!\n",
      "Doing model step #18!\n",
      "Doing model step #19!\n",
      "Doing model step #20!\n",
      "Doing model step #21!\n",
      "Doing model step #22!\n",
      "Doing model step #23!\n",
      "Doing model step #24!\n",
      "Doing model step #25!\n",
      "Doing model step #26!\n",
      "Doing model step #27!\n",
      "Doing model step #28!\n",
      "Doing model step #29!\n",
      "Doing model step #30!\n",
      "Doing model step #31!\n",
      "Doing model step #32!\n",
      "Doing model step #33!\n",
      "Doing model step #34!\n",
      "Doing model step #35!\n",
      "Doing model step #36!\n",
      "Doing model step #37!\n",
      "Doing model step #38!\n",
      "Doing model step #39!\n",
      "done\n"
     ]
    }
   ],
   "source": [
    "toy_model = create_toy_space(visalize=False)\n",
    "print('starting')\n",
    "for _ in range(40):\n",
    "    toy_model.step()\n",
    "print('done')"
   ],
   "metadata": {
    "collapsed": false,
    "pycharm": {
     "name": "#%%\n"
    }
   }
  },
  {
   "cell_type": "code",
   "execution_count": 5,
   "outputs": [],
   "source": [],
   "metadata": {
    "collapsed": false,
    "pycharm": {
     "name": "#%%\n"
    }
   }
  }
 ],
 "metadata": {
  "kernelspec": {
   "name": "pycharm-2517ad8d",
   "language": "python",
   "display_name": "PyCharm (md_final)"
  },
  "language_info": {
   "codemirror_mode": {
    "name": "ipython",
    "version": 2
   },
   "file_extension": ".py",
   "mimetype": "text/x-python",
   "name": "python",
   "nbconvert_exporter": "python",
   "pygments_lexer": "ipython2",
   "version": "2.7.6"
  }
 },
 "nbformat": 4,
 "nbformat_minor": 0
}