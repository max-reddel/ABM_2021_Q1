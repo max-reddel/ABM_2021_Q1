{
 "cells": [
  {
   "cell_type": "code",
   "execution_count": 1,
   "metadata": {
    "collapsed": true
   },
   "outputs": [],
   "source": [
    "# IMPORT SECTION\n",
    "import os\n",
    "from Scripts.Experiment import *\n",
    "from Scripts.EvacuationModel import *\n",
    "import sys\n",
    "import nest_asyncio\n",
    "nest_asyncio.apply()\n",
    "\n",
    "\n",
    "os.chdir('..')\n",
    "sys.path.append('./Scripts')"
   ]
  },
  {
   "cell_type": "markdown",
   "source": [
    "# Run experiments\n",
    "`expected run length for 1 replication for 1 exit type: ~20 mins`\n",
    "\n",
    "Parameters for `run()`:\n",
    "- `model` = MESA model. Currently uses the full library map (incl. image conversion)\n",
    "- `map_img_path` = Library map image. A toy (verification) version of the map is available as 'Images/Library_Toyplan2_v1.png'\n",
    "- `n_visitors` = number of visitors\n",
    "- `n_officestaff` = number of office staff\n",
    "- `visualize` = whether to instantiate animated simulation. Default: False\n",
    "- `n_replications` = number of replications per exit type (either A,B,C, or any combination of any exit)\n",
    "- `valid_exits` = list of exit types for analysis"
   ],
   "metadata": {
    "collapsed": false,
    "pycharm": {
     "name": "#%% md\n"
    }
   }
  },
  {
   "cell_type": "code",
   "execution_count": null,
   "outputs": [],
   "source": [
    "exp = Experiment()\n",
    "\"\"\"\n",
    "Params:\n",
    "\"\"\"\n",
    "# Params:\n",
    "\n",
    "exp.run(model=EvacuationModel, map_img_path='Images/Library_NewPlan2_map.png',\n",
    "        n_visitors=50, n_officestaff=10, visualize=False, n_replications=10, valid_exits=[ExitType.B])\n",
    "\n",
    "# Save the data\n",
    "# the modifier just states who is saving what.\n",
    "#       E.g.    modifier=1 --> exit types A, B, C\n",
    "#               modifier=2 --> exit types AB, BC\n",
    "#               modifier=3 --> exit types AC, ABC\n",
    "#               (modifier=0 is just for testing purposes)\n",
    "exp.save_data_to_pickle(modifier='1_B')\n",
    "\n",
    "exp.show_execution_times()"
   ],
   "metadata": {
    "collapsed": false,
    "pycharm": {
     "name": "#%%\n"
    }
   }
  },
  {
   "cell_type": "markdown",
   "source": [
    "# Run an animation\n",
    "_(take note an animation run is very slow!)_\n",
    "\n",
    "This section has the same code structure as the previous, but this time with `visualize=True`"
   ],
   "metadata": {
    "collapsed": false,
    "pycharm": {
     "name": "#%% md\n"
    }
   }
  },
  {
   "cell_type": "code",
   "execution_count": null,
   "outputs": [
    {
     "name": "stdout",
     "output_type": "stream",
     "text": [
      "Setting up the experiment ...\n",
      "\n",
      "Running the experiment with inputs:\n",
      "\t- n_replications: \t1\n",
      "\t- max_run_length: \t1000\n",
      "\t- n_visitors: \t\t50\n",
      "\t- female_ratio: \t0.5\n",
      "\t- adult_ratio: \t\t0.5\n",
      "\t- familiarity: \t\t0.1\n",
      "\n",
      "Set Map object currently Images/Library_NewPlan2_map.png.\n",
      "\n",
      "Running visualization.\n",
      "\n",
      "Interface starting at http://127.0.0.1:8521\n",
      "Socket opened!\n",
      "{\"type\":\"reset\"}\n"
     ]
    }
   ],
   "source": [
    "exp = Experiment()\n",
    "\n",
    "exp.run(model=EvacuationModel, map_img_path='Images/Library_NewPlan2_map.png',\n",
    "        n_visitors=50, n_officestaff=10, visualize=True, n_replications=1, valid_exits=[ExitType.ABC])\n",
    "\n"
   ],
   "metadata": {
    "collapsed": false,
    "pycharm": {
     "name": "#%%\n",
     "is_executing": true
    }
   }
  },
  {
   "cell_type": "code",
   "execution_count": null,
   "outputs": [],
   "source": [],
   "metadata": {
    "collapsed": false,
    "pycharm": {
     "name": "#%%\n"
    }
   }
  }
 ],
 "metadata": {
  "kernelspec": {
   "name": "pycharm-c9344927",
   "language": "python",
   "display_name": "PyCharm (final_assignment)"
  },
  "language_info": {
   "codemirror_mode": {
    "name": "ipython",
    "version": 2
   },
   "file_extension": ".py",
   "mimetype": "text/x-python",
   "name": "python",
   "nbconvert_exporter": "python",
   "pygments_lexer": "ipython2",
   "version": "2.7.6"
  }
 },
 "nbformat": 4,
 "nbformat_minor": 0
}