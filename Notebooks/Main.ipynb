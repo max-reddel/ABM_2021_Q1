{
 "cells": [
  {
   "cell_type": "code",
   "execution_count": 1,
   "metadata": {
    "collapsed": true
   },
   "outputs": [],
   "source": [
    "# IMPORT SECTION\n",
    "import os\n",
    "from Scripts.Experiment import *\n",
    "from Scripts.EvacuationModel import *\n",
    "import sys\n",
    "import nest_asyncio\n",
    "nest_asyncio.apply()\n",
    "\n",
    "\n",
    "os.chdir('..')\n",
    "sys.path.append('./Scripts')"
   ]
  },
  {
   "cell_type": "code",
   "execution_count": 3,
   "outputs": [
    {
     "name": "stdout",
     "output_type": "stream",
     "text": [
      "Setting up the experiment ...\n",
      "\n",
      "Running the experiment with inputs:\n",
      "\t- n_replications: \t10\n",
      "\t- max_run_length: \t1000\n",
      "\t- n_visitors: \t\t50\n",
      "\t- female_ratio: \t0.5\n",
      "\t- adult_ratio: \t\t0.5\n",
      "\t- familiarity: \t\t0.1\n",
      "\n",
      "Set Map object currently Images/Library_NewPlan2.png.\n",
      "\n",
      "Running replications for exit type: ExitType.ABC\n",
      "\tRunning 10 replications:\n",
      "EvacuationModel: all_paths loaded from pickle.\n",
      "EvacuationModel: all 12 Staff entities' destinations encoded.\n"
     ]
    },
    {
     "ename": "KeyboardInterrupt",
     "evalue": "",
     "output_type": "error",
     "traceback": [
      "\u001B[1;31m---------------------------------------------------------------------------\u001B[0m",
      "\u001B[1;31mKeyboardInterrupt\u001B[0m                         Traceback (most recent call last)",
      "\u001B[1;32m<ipython-input-3-3d9ac2230467>\u001B[0m in \u001B[0;36m<module>\u001B[1;34m\u001B[0m\n\u001B[0;32m      1\u001B[0m \u001B[0mexp\u001B[0m \u001B[1;33m=\u001B[0m \u001B[0mExperiment\u001B[0m\u001B[1;33m(\u001B[0m\u001B[1;33m)\u001B[0m\u001B[1;33m\u001B[0m\u001B[1;33m\u001B[0m\u001B[0m\n\u001B[0;32m      2\u001B[0m \u001B[1;33m\u001B[0m\u001B[0m\n\u001B[1;32m----> 3\u001B[1;33m exp.run(model=EvacuationModel, map_img_path='Images/Library_NewPlan2.png',\n\u001B[0m\u001B[0;32m      4\u001B[0m         n_visitors=50, n_officestaff=10, visualize=False, n_replications=10, valid_exits=[ExitType.ABC])\n\u001B[0;32m      5\u001B[0m \u001B[1;33m\u001B[0m\u001B[0m\n",
      "\u001B[1;32mD:\\Downloads\\@Books\\@TPM\\@ABM\\ABM_2021_Q1\\Scripts\\Experiment.py\u001B[0m in \u001B[0;36mrun\u001B[1;34m(self, model, n_replications, visualize, max_run_length, n_visitors, n_officestaff, female_ratio, adult_ratio, familiarity, map_img_path, valid_exits)\u001B[0m\n\u001B[0;32m     41\u001B[0m             \u001B[0mmessage\u001B[0m \u001B[1;33m=\u001B[0m \u001B[1;34mf\"\\nRunning replications for exit type: {ex}\"\u001B[0m \u001B[1;32mif\u001B[0m \u001B[1;32mnot\u001B[0m \u001B[0mvisualize\u001B[0m \u001B[1;32melse\u001B[0m \u001B[1;34m\"\\nRunning visualization.\"\u001B[0m\u001B[1;33m\u001B[0m\u001B[1;33m\u001B[0m\u001B[0m\n\u001B[0;32m     42\u001B[0m             \u001B[0mprint\u001B[0m\u001B[1;33m(\u001B[0m\u001B[1;34mf\"{message}\"\u001B[0m\u001B[1;33m)\u001B[0m\u001B[1;33m\u001B[0m\u001B[1;33m\u001B[0m\u001B[0m\n\u001B[1;32m---> 43\u001B[1;33m             self.evacuation_times[ex] = self.run_n_replications(n_replications=n_replications, visualize=visualize,\n\u001B[0m\u001B[0;32m     44\u001B[0m                                                                 \u001B[0mmax_run_length\u001B[0m\u001B[1;33m=\u001B[0m\u001B[0mmax_run_length\u001B[0m\u001B[1;33m,\u001B[0m \u001B[0mn_visitors\u001B[0m\u001B[1;33m=\u001B[0m\u001B[0mn_visitors\u001B[0m\u001B[1;33m,\u001B[0m\u001B[1;33m\u001B[0m\u001B[1;33m\u001B[0m\u001B[0m\n\u001B[0;32m     45\u001B[0m                                                                 \u001B[0mn_officestaff\u001B[0m\u001B[1;33m=\u001B[0m\u001B[0mn_officestaff\u001B[0m\u001B[1;33m,\u001B[0m\u001B[1;33m\u001B[0m\u001B[1;33m\u001B[0m\u001B[0m\n",
      "\u001B[1;32mD:\\Downloads\\@Books\\@TPM\\@ABM\\ABM_2021_Q1\\Scripts\\Experiment.py\u001B[0m in \u001B[0;36mrun_n_replications\u001B[1;34m(self, n_replications, visualize, max_run_length, n_visitors, n_officestaff, female_ratio, adult_ratio, familiarity, valid_exits)\u001B[0m\n\u001B[0;32m     76\u001B[0m         \u001B[1;32mfor\u001B[0m \u001B[0mi\u001B[0m \u001B[1;32min\u001B[0m \u001B[0mrange\u001B[0m\u001B[1;33m(\u001B[0m\u001B[0mn_replications\u001B[0m\u001B[1;33m)\u001B[0m\u001B[1;33m:\u001B[0m\u001B[1;33m\u001B[0m\u001B[1;33m\u001B[0m\u001B[0m\n\u001B[0;32m     77\u001B[0m \u001B[1;33m\u001B[0m\u001B[0m\n\u001B[1;32m---> 78\u001B[1;33m             evac_time = self.run_one_replication(visualize=visualize, max_run_length=max_run_length, n_visitors=n_visitors,\n\u001B[0m\u001B[0;32m     79\u001B[0m                                                  \u001B[0mn_officestaff\u001B[0m\u001B[1;33m=\u001B[0m\u001B[0mn_officestaff\u001B[0m\u001B[1;33m,\u001B[0m\u001B[1;33m\u001B[0m\u001B[1;33m\u001B[0m\u001B[0m\n\u001B[0;32m     80\u001B[0m                                                  \u001B[0mfemale_ratio\u001B[0m\u001B[1;33m=\u001B[0m\u001B[0mfemale_ratio\u001B[0m\u001B[1;33m,\u001B[0m \u001B[0madult_ratio\u001B[0m\u001B[1;33m=\u001B[0m\u001B[0madult_ratio\u001B[0m\u001B[1;33m,\u001B[0m \u001B[0mfamiliarity\u001B[0m\u001B[1;33m=\u001B[0m\u001B[0mfamiliarity\u001B[0m\u001B[1;33m,\u001B[0m\u001B[1;33m\u001B[0m\u001B[1;33m\u001B[0m\u001B[0m\n",
      "\u001B[1;32mD:\\Downloads\\@Books\\@TPM\\@ABM\\ABM_2021_Q1\\Scripts\\Experiment.py\u001B[0m in \u001B[0;36mrun_one_replication\u001B[1;34m(self, visualize, max_run_length, n_officestaff, n_visitors, female_ratio, adult_ratio, familiarity, valid_exits, model, map_img_path)\u001B[0m\n\u001B[0;32m    118\u001B[0m             \u001B[1;31m# Run model\u001B[0m\u001B[1;33m\u001B[0m\u001B[1;33m\u001B[0m\u001B[1;33m\u001B[0m\u001B[0m\n\u001B[0;32m    119\u001B[0m             \u001B[1;32mfor\u001B[0m \u001B[0mi\u001B[0m \u001B[1;32min\u001B[0m \u001B[0mrange\u001B[0m\u001B[1;33m(\u001B[0m\u001B[0mmax_run_length\u001B[0m\u001B[1;33m)\u001B[0m\u001B[1;33m:\u001B[0m\u001B[1;33m\u001B[0m\u001B[1;33m\u001B[0m\u001B[0m\n\u001B[1;32m--> 120\u001B[1;33m                 \u001B[0mmodel\u001B[0m\u001B[1;33m.\u001B[0m\u001B[0mstep\u001B[0m\u001B[1;33m(\u001B[0m\u001B[1;33m)\u001B[0m\u001B[1;33m\u001B[0m\u001B[1;33m\u001B[0m\u001B[0m\n\u001B[0m\u001B[0;32m    121\u001B[0m \u001B[1;33m\u001B[0m\u001B[0m\n\u001B[0;32m    122\u001B[0m                 \u001B[1;32mif\u001B[0m \u001B[0mmodel\u001B[0m\u001B[1;33m.\u001B[0m\u001B[0mis_done\u001B[0m\u001B[1;33m(\u001B[0m\u001B[1;33m)\u001B[0m\u001B[1;33m:\u001B[0m\u001B[1;33m\u001B[0m\u001B[1;33m\u001B[0m\u001B[0m\n",
      "\u001B[1;32mD:\\Downloads\\@Books\\@TPM\\@ABM\\ABM_2021_Q1\\Scripts\\EvacuationModel.py\u001B[0m in \u001B[0;36mstep\u001B[1;34m(self)\u001B[0m\n\u001B[0;32m    179\u001B[0m \u001B[1;33m\u001B[0m\u001B[0m\n\u001B[0;32m    180\u001B[0m     \u001B[1;32mdef\u001B[0m \u001B[0mstep\u001B[0m\u001B[1;33m(\u001B[0m\u001B[0mself\u001B[0m\u001B[1;33m)\u001B[0m\u001B[1;33m:\u001B[0m\u001B[1;33m\u001B[0m\u001B[1;33m\u001B[0m\u001B[0m\n\u001B[1;32m--> 181\u001B[1;33m         \u001B[0mself\u001B[0m\u001B[1;33m.\u001B[0m\u001B[0mend_time\u001B[0m \u001B[1;33m+=\u001B[0m \u001B[1;36m1\u001B[0m\u001B[1;33m\u001B[0m\u001B[1;33m\u001B[0m\u001B[0m\n\u001B[0m\u001B[0;32m    182\u001B[0m         \u001B[0mself\u001B[0m\u001B[1;33m.\u001B[0m\u001B[0mschedule\u001B[0m\u001B[1;33m.\u001B[0m\u001B[0mstep\u001B[0m\u001B[1;33m(\u001B[0m\u001B[1;33m)\u001B[0m\u001B[1;33m\u001B[0m\u001B[1;33m\u001B[0m\u001B[0m\n\u001B[0;32m    183\u001B[0m         \u001B[0mself\u001B[0m\u001B[1;33m.\u001B[0m\u001B[0mdatacollector\u001B[0m\u001B[1;33m.\u001B[0m\u001B[0mcollect\u001B[0m\u001B[1;33m(\u001B[0m\u001B[0mself\u001B[0m\u001B[1;33m)\u001B[0m\u001B[1;33m\u001B[0m\u001B[1;33m\u001B[0m\u001B[0m\n",
      "\u001B[1;32mD:\\Program Files\\Python38\\lib\\site-packages\\mesa\\time.py\u001B[0m in \u001B[0;36mstep\u001B[1;34m(self)\u001B[0m\n\u001B[0;32m    125\u001B[0m         \"\"\"\n\u001B[0;32m    126\u001B[0m         \u001B[1;32mfor\u001B[0m \u001B[0magent\u001B[0m \u001B[1;32min\u001B[0m \u001B[0mself\u001B[0m\u001B[1;33m.\u001B[0m\u001B[0magent_buffer\u001B[0m\u001B[1;33m(\u001B[0m\u001B[0mshuffled\u001B[0m\u001B[1;33m=\u001B[0m\u001B[1;32mTrue\u001B[0m\u001B[1;33m)\u001B[0m\u001B[1;33m:\u001B[0m\u001B[1;33m\u001B[0m\u001B[1;33m\u001B[0m\u001B[0m\n\u001B[1;32m--> 127\u001B[1;33m             \u001B[0magent\u001B[0m\u001B[1;33m.\u001B[0m\u001B[0mstep\u001B[0m\u001B[1;33m(\u001B[0m\u001B[1;33m)\u001B[0m\u001B[1;33m\u001B[0m\u001B[1;33m\u001B[0m\u001B[0m\n\u001B[0m\u001B[0;32m    128\u001B[0m         \u001B[0mself\u001B[0m\u001B[1;33m.\u001B[0m\u001B[0msteps\u001B[0m \u001B[1;33m+=\u001B[0m \u001B[1;36m1\u001B[0m\u001B[1;33m\u001B[0m\u001B[1;33m\u001B[0m\u001B[0m\n\u001B[0;32m    129\u001B[0m         \u001B[0mself\u001B[0m\u001B[1;33m.\u001B[0m\u001B[0mtime\u001B[0m \u001B[1;33m+=\u001B[0m \u001B[1;36m1\u001B[0m\u001B[1;33m\u001B[0m\u001B[1;33m\u001B[0m\u001B[0m\n",
      "\u001B[1;32mD:\\Downloads\\@Books\\@TPM\\@ABM\\ABM_2021_Q1\\Scripts\\AnimateAgents.py\u001B[0m in \u001B[0;36mstep\u001B[1;34m(self)\u001B[0m\n\u001B[0;32m    241\u001B[0m                 \u001B[0mself\u001B[0m\u001B[1;33m.\u001B[0m\u001B[0memergency_knowledge\u001B[0m\u001B[1;33m.\u001B[0m\u001B[0mis_evacuating\u001B[0m \u001B[1;33m=\u001B[0m \u001B[1;32mTrue\u001B[0m\u001B[1;33m\u001B[0m\u001B[1;33m\u001B[0m\u001B[0m\n\u001B[0;32m    242\u001B[0m \u001B[1;33m\u001B[0m\u001B[0m\n\u001B[1;32m--> 243\u001B[1;33m         \u001B[0mself\u001B[0m\u001B[1;33m.\u001B[0m\u001B[0mcurrent_task\u001B[0m\u001B[1;33m.\u001B[0m\u001B[0mdo\u001B[0m\u001B[1;33m(\u001B[0m\u001B[1;33m)\u001B[0m\u001B[1;33m\u001B[0m\u001B[1;33m\u001B[0m\u001B[0m\n\u001B[0m\u001B[0;32m    244\u001B[0m \u001B[1;33m\u001B[0m\u001B[0m\n\u001B[0;32m    245\u001B[0m \u001B[1;33m\u001B[0m\u001B[0m\n",
      "\u001B[1;32mD:\\Downloads\\@Books\\@TPM\\@ABM\\ABM_2021_Q1\\Scripts\\Tasks.py\u001B[0m in \u001B[0;36mdo\u001B[1;34m(self)\u001B[0m\n\u001B[0;32m    121\u001B[0m             \u001B[1;31m# if current subtask should still run\u001B[0m\u001B[1;33m\u001B[0m\u001B[1;33m\u001B[0m\u001B[1;33m\u001B[0m\u001B[0m\n\u001B[0;32m    122\u001B[0m             \u001B[1;32melif\u001B[0m \u001B[1;32mnot\u001B[0m \u001B[0mself\u001B[0m\u001B[1;33m.\u001B[0m\u001B[0mremaining_subtasks\u001B[0m\u001B[1;33m[\u001B[0m\u001B[1;36m0\u001B[0m\u001B[1;33m]\u001B[0m\u001B[1;33m.\u001B[0m\u001B[0mis_done\u001B[0m\u001B[1;33m(\u001B[0m\u001B[1;33m)\u001B[0m\u001B[1;33m:\u001B[0m\u001B[1;33m\u001B[0m\u001B[1;33m\u001B[0m\u001B[0m\n\u001B[1;32m--> 123\u001B[1;33m                 \u001B[0mself\u001B[0m\u001B[1;33m.\u001B[0m\u001B[0mdo_current_sub_task\u001B[0m\u001B[1;33m(\u001B[0m\u001B[1;33m)\u001B[0m\u001B[1;33m\u001B[0m\u001B[1;33m\u001B[0m\u001B[0m\n\u001B[0m\u001B[0;32m    124\u001B[0m \u001B[1;33m\u001B[0m\u001B[0m\n\u001B[0;32m    125\u001B[0m         \u001B[1;31m# In emergency situation\u001B[0m\u001B[1;33m\u001B[0m\u001B[1;33m\u001B[0m\u001B[1;33m\u001B[0m\u001B[0m\n",
      "\u001B[1;32mD:\\Downloads\\@Books\\@TPM\\@ABM\\ABM_2021_Q1\\Scripts\\Tasks.py\u001B[0m in \u001B[0;36mdo_current_sub_task\u001B[1;34m(self)\u001B[0m\n\u001B[0;32m    156\u001B[0m \u001B[1;33m\u001B[0m\u001B[0m\n\u001B[0;32m    157\u001B[0m         \u001B[0mcurrent_subtask\u001B[0m \u001B[1;33m=\u001B[0m \u001B[0mself\u001B[0m\u001B[1;33m.\u001B[0m\u001B[0mremaining_subtasks\u001B[0m\u001B[1;33m[\u001B[0m\u001B[1;36m0\u001B[0m\u001B[1;33m]\u001B[0m\u001B[1;33m\u001B[0m\u001B[1;33m\u001B[0m\u001B[0m\n\u001B[1;32m--> 158\u001B[1;33m         \u001B[0mcurrent_subtask\u001B[0m\u001B[1;33m.\u001B[0m\u001B[0mdo\u001B[0m\u001B[1;33m(\u001B[0m\u001B[1;33m)\u001B[0m\u001B[1;33m\u001B[0m\u001B[1;33m\u001B[0m\u001B[0m\n\u001B[0m\u001B[0;32m    159\u001B[0m         \u001B[0mcurrent_subtask\u001B[0m\u001B[1;33m.\u001B[0m\u001B[0mupdate\u001B[0m\u001B[1;33m(\u001B[0m\u001B[1;33m)\u001B[0m\u001B[1;33m\u001B[0m\u001B[1;33m\u001B[0m\u001B[0m\n\u001B[0;32m    160\u001B[0m \u001B[1;33m\u001B[0m\u001B[0m\n",
      "\u001B[1;32mD:\\Downloads\\@Books\\@TPM\\@ABM\\ABM_2021_Q1\\Scripts\\Tasks.py\u001B[0m in \u001B[0;36mdo\u001B[1;34m(self)\u001B[0m\n\u001B[0;32m    216\u001B[0m                 \u001B[0mself\u001B[0m\u001B[1;33m.\u001B[0m\u001B[0mperson\u001B[0m\u001B[1;33m.\u001B[0m\u001B[0mmove_data\u001B[0m\u001B[1;33m.\u001B[0m\u001B[0mpath_to_current_dest\u001B[0m \u001B[1;33m=\u001B[0m \u001B[0mself\u001B[0m\u001B[1;33m.\u001B[0m\u001B[0mperson\u001B[0m\u001B[1;33m.\u001B[0m\u001B[0mmodel\u001B[0m\u001B[1;33m.\u001B[0m\u001B[0mall_paths\u001B[0m\u001B[1;33m[\u001B[0m\u001B[1;33m(\u001B[0m\u001B[0morigin\u001B[0m\u001B[1;33m,\u001B[0m \u001B[0mdestination\u001B[0m\u001B[1;33m)\u001B[0m\u001B[1;33m]\u001B[0m\u001B[1;33m\u001B[0m\u001B[1;33m\u001B[0m\u001B[0m\n\u001B[0;32m    217\u001B[0m             \u001B[1;32melse\u001B[0m\u001B[1;33m:\u001B[0m\u001B[1;33m\u001B[0m\u001B[1;33m\u001B[0m\u001B[0m\n\u001B[1;32m--> 218\u001B[1;33m                 \u001B[0mself\u001B[0m\u001B[1;33m.\u001B[0m\u001B[0mperson\u001B[0m\u001B[1;33m.\u001B[0m\u001B[0mmove_data\u001B[0m\u001B[1;33m.\u001B[0m\u001B[0mpath_to_current_dest\u001B[0m \u001B[1;33m=\u001B[0m \u001B[0ma_star_search\u001B[0m\u001B[1;33m(\u001B[0m\u001B[0mself\u001B[0m\u001B[1;33m.\u001B[0m\u001B[0mperson\u001B[0m\u001B[1;33m.\u001B[0m\u001B[0mmodel\u001B[0m\u001B[1;33m.\u001B[0m\u001B[0mgrid\u001B[0m\u001B[1;33m,\u001B[0m \u001B[0mself\u001B[0m\u001B[1;33m.\u001B[0m\u001B[0mperson\u001B[0m\u001B[1;33m.\u001B[0m\u001B[0mpos\u001B[0m\u001B[1;33m,\u001B[0m \u001B[0mself\u001B[0m\u001B[1;33m.\u001B[0m\u001B[0mdestination\u001B[0m\u001B[1;33m)\u001B[0m\u001B[1;33m\u001B[0m\u001B[1;33m\u001B[0m\u001B[0m\n\u001B[0m\u001B[0;32m    219\u001B[0m \u001B[1;33m\u001B[0m\u001B[0m\n\u001B[0;32m    220\u001B[0m             \u001B[1;31m# Save path (for speeding up calculations)\u001B[0m\u001B[1;33m\u001B[0m\u001B[1;33m\u001B[0m\u001B[1;33m\u001B[0m\u001B[0m\n",
      "\u001B[1;32mD:\\Downloads\\@Books\\@TPM\\@ABM\\ABM_2021_Q1\\Scripts\\PathFinding.py\u001B[0m in \u001B[0;36ma_star_search\u001B[1;34m(grid, origin, destination, unwalkable_objects_list)\u001B[0m\n\u001B[0;32m     55\u001B[0m \u001B[1;33m\u001B[0m\u001B[0m\n\u001B[0;32m     56\u001B[0m         \u001B[1;32mfor\u001B[0m \u001B[0mnext_pos\u001B[0m \u001B[1;32min\u001B[0m \u001B[0mget_valid_neighbors\u001B[0m\u001B[1;33m(\u001B[0m\u001B[0mgrid\u001B[0m\u001B[1;33m,\u001B[0m \u001B[0mcurrent\u001B[0m\u001B[1;33m,\u001B[0m \u001B[0munwalkable_objects_list\u001B[0m\u001B[1;33m)\u001B[0m\u001B[1;33m:\u001B[0m\u001B[1;33m\u001B[0m\u001B[1;33m\u001B[0m\u001B[0m\n\u001B[1;32m---> 57\u001B[1;33m             \u001B[0mnew_cost\u001B[0m \u001B[1;33m=\u001B[0m \u001B[0mcost_so_far\u001B[0m\u001B[1;33m[\u001B[0m\u001B[0mcurrent\u001B[0m\u001B[1;33m]\u001B[0m \u001B[1;33m+\u001B[0m \u001B[1;36m1\u001B[0m\u001B[1;33m\u001B[0m\u001B[1;33m\u001B[0m\u001B[0m\n\u001B[0m\u001B[0;32m     58\u001B[0m             \u001B[1;32mif\u001B[0m \u001B[0mnext_pos\u001B[0m \u001B[1;32mnot\u001B[0m \u001B[1;32min\u001B[0m \u001B[0mcost_so_far\u001B[0m \u001B[1;32mor\u001B[0m \u001B[0mnew_cost\u001B[0m \u001B[1;33m<\u001B[0m \u001B[0mcost_so_far\u001B[0m\u001B[1;33m[\u001B[0m\u001B[0mnext_pos\u001B[0m\u001B[1;33m]\u001B[0m\u001B[1;33m:\u001B[0m\u001B[1;33m\u001B[0m\u001B[1;33m\u001B[0m\u001B[0m\n\u001B[0;32m     59\u001B[0m                 \u001B[0mcost_so_far\u001B[0m\u001B[1;33m[\u001B[0m\u001B[0mnext_pos\u001B[0m\u001B[1;33m]\u001B[0m \u001B[1;33m=\u001B[0m \u001B[0mnew_cost\u001B[0m\u001B[1;33m\u001B[0m\u001B[1;33m\u001B[0m\u001B[0m\n",
      "\u001B[1;31mKeyboardInterrupt\u001B[0m: "
     ]
    }
   ],
   "source": [
    "exp = Experiment()\n",
    "\n",
    "exp.run(model=EvacuationModel, map_img_path='Images/Library_NewPlan2.png',\n",
    "        n_visitors=50, n_officestaff=10, visualize=False, n_replications=10, valid_exits=[ExitType.ABC])\n",
    "\n",
    "# Save the data\n",
    "# the modifier just states who is saving what.\n",
    "#       E.g.    modifier=1 --> exit types A, B, C\n",
    "#               modifier=2 --> exit types AB, BC\n",
    "#               modifier=3 --> exit types AC, ABC\n",
    "#               (modifier=0 is just for testing purposes)\n",
    "exp.save_data_to_pickle(modifier='3_ABC')"
   ],
   "metadata": {
    "collapsed": false,
    "pycharm": {
     "name": "#%%\n"
    }
   }
  },
  {
   "cell_type": "code",
   "execution_count": null,
   "outputs": [],
   "source": [
    "# Load the data\n",
    "# evac_times, average_evac_times = exp.load_pickled_data(modifier=0)\n",
    "# evac_times1, average_evac_times1 = exp.load_pickled_data(modifier=1)\n",
    "# evac_times2, average_evac_times2 = exp.load_pickled_data(modifier=2)\n",
    "# evac_times3, average_evac_times3 = exp.load_pickled_data(modifier=3)"
   ],
   "metadata": {
    "collapsed": false,
    "pycharm": {
     "name": "#%%\n"
    }
   }
  },
  {
   "cell_type": "code",
   "execution_count": null,
   "outputs": [],
   "source": [
    "# # Combine corresponding dictionaries\n",
    "# exp.combine_results(evac_times1, evac_times2, evac_times3, average_evac_times1, average_evac_times2, average_evac_times3)\n",
    "\n",
    "# Do all kind of data visualization.\n",
    "exp.show_execution_times()\n",
    "\n"
   ],
   "metadata": {
    "collapsed": false,
    "pycharm": {
     "name": "#%%\n"
    }
   }
  }
 ],
 "metadata": {
  "kernelspec": {
   "name": "pycharm-c9344927",
   "language": "python",
   "display_name": "PyCharm (final_assignment)"
  },
  "language_info": {
   "codemirror_mode": {
    "name": "ipython",
    "version": 2
   },
   "file_extension": ".py",
   "mimetype": "text/x-python",
   "name": "python",
   "nbconvert_exporter": "python",
   "pygments_lexer": "ipython2",
   "version": "2.7.6"
  }
 },
 "nbformat": 4,
 "nbformat_minor": 0
}