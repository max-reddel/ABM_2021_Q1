{
 "cells": [
  {
   "cell_type": "code",
   "execution_count": 1,
   "metadata": {
    "collapsed": true
   },
   "outputs": [],
   "source": [
    "# IMPORT SECTION\n",
    "import os\n",
    "from Scripts.Experiment import *\n",
    "from Scripts.EvacuationModel import *\n",
    "import sys\n",
    "import nest_asyncio\n",
    "nest_asyncio.apply()\n",
    "\n",
    "\n",
    "os.chdir('..')\n",
    "sys.path.append('./Scripts')"
   ]
  },
  {
   "cell_type": "code",
   "execution_count": 2,
   "outputs": [
    {
     "name": "stdout",
     "output_type": "stream",
     "text": [
      "Setting up the experiment ...\n",
      "\n",
      "Running the experiment with inputs:\n",
      "\t- n_replications: \t10\n",
      "\t- max_run_length: \t1000\n",
      "\t- n_visitors: \t\t50\n",
      "\t- female_ratio: \t0.5\n",
      "\t- adult_ratio: \t\t0.5\n",
      "\t- familiarity: \t\t0.1\n",
      "\n",
      "Set Map object currently Images/Library_NewPlan2.png.\n",
      "\n",
      "Running replications for exit type: ExitType.B\n",
      "\tRunning 10 replications:\n",
      "Init done, simulation start\n",
      "\t\treplication #1/10\n",
      "Init done, simulation start\n",
      "\t\treplication #2/10\n",
      "Init done, simulation start\n",
      "\t\treplication #3/10\n",
      "Init done, simulation start\n",
      "\t\treplication #4/10\n",
      "Init done, simulation start\n",
      "\t\treplication #5/10\n",
      "Init done, simulation start\n",
      "\t\treplication #6/10\n",
      "Init done, simulation start\n",
      "\t\treplication #7/10\n",
      "Init done, simulation start\n",
      "\t\treplication #8/10\n",
      "Init done, simulation start\n",
      "\t\treplication #9/10\n",
      "Init done, simulation start\n",
      "\t\treplication #10/10\n",
      "Run time: 12663.96 seconds\n"
     ]
    }
   ],
   "source": [
    "exp = Experiment()\n",
    "\n",
    "exp.run(model=EvacuationModel, map_img_path='Images/Library_NewPlan2.png',\n",
    "        n_visitors=50, n_officestaff=10, visualize=False, n_replications=10, valid_exits=[ExitType.B])\n",
    "\n",
    "# Save the data\n",
    "# the modifier just states who is saving what.\n",
    "#       E.g.    modifier=1 --> exit types A, B, C\n",
    "#               modifier=2 --> exit types AB, BC\n",
    "#               modifier=3 --> exit types AC, ABC\n",
    "#               (modifier=0 is just for testing purposes)\n",
    "exp.save_data_to_pickle(modifier='1_B')"
   ],
   "metadata": {
    "collapsed": false,
    "pycharm": {
     "name": "#%%\n"
    }
   }
  },
  {
   "cell_type": "code",
   "execution_count": 3,
   "outputs": [],
   "source": [
    "# Load the data\n",
    "# evac_times, average_evac_times = exp.load_pickled_data(modifier=0)\n",
    "# evac_times1, average_evac_times1 = exp.load_pickled_data(modifier=1)\n",
    "# evac_times2, average_evac_times2 = exp.load_pickled_data(modifier=2)\n",
    "# evac_times3, average_evac_times3 = exp.load_pickled_data(modifier=3)"
   ],
   "metadata": {
    "collapsed": false,
    "pycharm": {
     "name": "#%%\n"
    }
   }
  },
  {
   "cell_type": "code",
   "execution_count": 4,
   "outputs": [
    {
     "name": "stdout",
     "output_type": "stream",
     "text": [
      "Execution times per replication: [1481.3, 1173.83, 1388.11, 1293.39, 1109.05, 1321.38, 1373.5, 1340.3, 1033.05, 1150.06]\n"
     ]
    }
   ],
   "source": [
    "# # Combine corresponding dictionaries\n",
    "# exp.combine_results(evac_times1, evac_times2, evac_times3, average_evac_times1, average_evac_times2, average_evac_times3)\n",
    "\n",
    "# Do all kind of data visualization.\n",
    "exp.show_execution_times()\n",
    "\n"
   ],
   "metadata": {
    "collapsed": false,
    "pycharm": {
     "name": "#%%\n"
    }
   }
  }
 ],
 "metadata": {
  "kernelspec": {
   "name": "pycharm-9c79f759",
   "language": "python",
   "display_name": "PyCharm (ABM_2021_Q1)"
  },
  "language_info": {
   "codemirror_mode": {
    "name": "ipython",
    "version": 2
   },
   "file_extension": ".py",
   "mimetype": "text/x-python",
   "name": "python",
   "nbconvert_exporter": "python",
   "pygments_lexer": "ipython2",
   "version": "2.7.6"
  }
 },
 "nbformat": 4,
 "nbformat_minor": 0
}