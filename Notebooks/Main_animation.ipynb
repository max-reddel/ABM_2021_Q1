{
 "cells": [
  {
   "cell_type": "code",
   "execution_count": 1,
   "metadata": {
    "collapsed": true
   },
   "outputs": [],
   "source": [
    "# IMPORT SECTION\n",
    "import os\n",
    "from Scripts.Experiment import *\n",
    "from Scripts.EvacuationModel import *\n",
    "import sys\n",
    "import nest_asyncio\n",
    "nest_asyncio.apply()\n",
    "\n",
    "\n",
    "os.chdir('..')\n",
    "sys.path.append('./Scripts')\n",
    "\n"
   ]
  },
  {
   "cell_type": "markdown",
   "source": [
    "# Run an animation\n",
    "\n",
    "Executing the following code block will conduct an animated run in a browser tab. A blank screen will first show until the map is fully loaded (~20 seconds).\n",
    "\n",
    "When the map is loaded, clicking on the Start button on top of the screen would start the simulation. However, the first step would take several minutes to complete (due to initial pathfinding), so be patient. Subsequent steps take less time, but still up to a minute in processing."
   ],
   "metadata": {
    "collapsed": false,
    "pycharm": {
     "name": "#%% md\n"
    }
   }
  },
  {
   "cell_type": "code",
   "execution_count": null,
   "outputs": [
    {
     "name": "stdout",
     "output_type": "stream",
     "text": [
      "Setting up the experiment ...\n",
      "\n",
      "Running the experiment with inputs:\n",
      "\t- n_replications: \t1\n",
      "\t- max_run_length: \t1000\n",
      "\t- n_visitors: \t\t50\n",
      "\t- female_ratio: \t0.5\n",
      "\t- adult_ratio: \t\t0.5\n",
      "\t- familiarity: \t\t0.1\n",
      "\n",
      "Set Map object currently Images/Library_NewPlan2_map.png.\n",
      "\n",
      "Running visualization.\n",
      "\n",
      "Interface starting at http://127.0.0.1:8521\n",
      "Socket opened!\n",
      "{\"type\":\"reset\"}\n",
      "{\"type\":\"get_step\",\"step\":1}\n",
      "Init done, simulation start\n",
      "{\"type\":\"get_step\",\"step\":2}\n",
      "{\"type\":\"get_step\",\"step\":3}\n",
      "{\"type\":\"get_step\",\"step\":4}\n",
      "{\"type\":\"get_step\",\"step\":5}\n",
      "{\"type\":\"get_step\",\"step\":6}\n",
      "{\"type\":\"get_step\",\"step\":7}\n",
      "{\"type\":\"get_step\",\"step\":8}\n",
      "{\"type\":\"get_step\",\"step\":9}\n",
      "{\"type\":\"get_step\",\"step\":10}\n",
      "{\"type\":\"get_step\",\"step\":11}\n",
      "{\"type\":\"get_step\",\"step\":12}\n",
      "{\"type\":\"get_step\",\"step\":13}\n",
      "{\"type\":\"get_step\",\"step\":14}\n",
      "{\"type\":\"get_step\",\"step\":15}\n",
      "{\"type\":\"get_step\",\"step\":16}\n",
      "{\"type\":\"get_step\",\"step\":17}\n",
      "{\"type\":\"get_step\",\"step\":18}\n",
      "{\"type\":\"get_step\",\"step\":19}\n",
      "{\"type\":\"get_step\",\"step\":20}\n",
      "{\"type\":\"get_step\",\"step\":21}\n",
      "{\"type\":\"get_step\",\"step\":22}\n",
      "{\"type\":\"get_step\",\"step\":23}\n",
      "{\"type\":\"get_step\",\"step\":24}\n",
      "{\"type\":\"get_step\",\"step\":25}\n",
      "{\"type\":\"get_step\",\"step\":26}\n",
      "{\"type\":\"get_step\",\"step\":27}\n",
      "{\"type\":\"get_step\",\"step\":28}\n",
      "{\"type\":\"get_step\",\"step\":29}\n",
      "{\"type\":\"get_step\",\"step\":30}\n",
      "{\"type\":\"get_step\",\"step\":31}\n",
      "{\"type\":\"get_step\",\"step\":32}\n",
      "{\"type\":\"get_step\",\"step\":33}\n",
      "{\"type\":\"get_step\",\"step\":34}\n",
      "{\"type\":\"get_step\",\"step\":35}\n",
      "{\"type\":\"get_step\",\"step\":36}\n",
      "{\"type\":\"get_step\",\"step\":37}\n",
      "{\"type\":\"get_step\",\"step\":38}\n",
      "{\"type\":\"get_step\",\"step\":39}\n",
      "{\"type\":\"get_step\",\"step\":40}\n",
      "{\"type\":\"get_step\",\"step\":41}\n",
      "{\"type\":\"get_step\",\"step\":42}\n",
      "{\"type\":\"get_step\",\"step\":43}\n",
      "{\"type\":\"get_step\",\"step\":44}\n",
      "{\"type\":\"get_step\",\"step\":45}\n",
      "{\"type\":\"get_step\",\"step\":46}\n",
      "{\"type\":\"get_step\",\"step\":47}\n",
      "{\"type\":\"get_step\",\"step\":48}\n",
      "{\"type\":\"get_step\",\"step\":49}\n",
      "{\"type\":\"get_step\",\"step\":50}\n",
      "{\"type\":\"get_step\",\"step\":51}\n",
      "{\"type\":\"get_step\",\"step\":52}\n",
      "{\"type\":\"get_step\",\"step\":53}\n",
      "{\"type\":\"get_step\",\"step\":54}\n",
      "{\"type\":\"get_step\",\"step\":55}\n",
      "{\"type\":\"get_step\",\"step\":56}\n",
      "{\"type\":\"get_step\",\"step\":57}\n",
      "{\"type\":\"get_step\",\"step\":58}\n",
      "{\"type\":\"get_step\",\"step\":59}\n",
      "{\"type\":\"get_step\",\"step\":60}\n",
      "{\"type\":\"get_step\",\"step\":61}\n",
      "{\"type\":\"get_step\",\"step\":62}\n",
      "{\"type\":\"get_step\",\"step\":63}\n",
      "{\"type\":\"get_step\",\"step\":64}\n",
      "{\"type\":\"get_step\",\"step\":65}\n",
      "{\"type\":\"get_step\",\"step\":66}\n",
      "{\"type\":\"get_step\",\"step\":67}\n",
      "{\"type\":\"get_step\",\"step\":68}\n",
      "{\"type\":\"get_step\",\"step\":69}\n",
      "{\"type\":\"get_step\",\"step\":70}\n"
     ]
    }
   ],
   "source": [
    "exp = Experiment()\n",
    "\n",
    "exp.run(model=EvacuationModel, map_img_path='Images/Library_NewPlan2_map.png',\n",
    "        n_visitors=50, n_officestaff=10, visualize=True, n_replications=1, valid_exits=[ExitType.C])\n",
    "\n"
   ],
   "metadata": {
    "collapsed": false,
    "pycharm": {
     "name": "#%%\n",
     "is_executing": true
    }
   }
  },
  {
   "cell_type": "code",
   "execution_count": null,
   "outputs": [],
   "source": [],
   "metadata": {
    "collapsed": false,
    "pycharm": {
     "name": "#%%\n",
     "is_executing": true
    }
   }
  }
 ],
 "metadata": {
  "kernelspec": {
   "name": "pycharm-c9344927",
   "language": "python",
   "display_name": "PyCharm (final_assignment)"
  },
  "language_info": {
   "codemirror_mode": {
    "name": "ipython",
    "version": 2
   },
   "file_extension": ".py",
   "mimetype": "text/x-python",
   "name": "python",
   "nbconvert_exporter": "python",
   "pygments_lexer": "ipython2",
   "version": "2.7.6"
  }
 },
 "nbformat": 4,
 "nbformat_minor": 0
}